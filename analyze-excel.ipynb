{
 "cells": [
  {
   "cell_type": "code",
   "execution_count": 1,
   "metadata": {
    "collapsed": true
   },
   "outputs": [],
   "source": [
    "import pandas as pd"
   ]
  },
  {
   "cell_type": "code",
   "execution_count": 2,
   "metadata": {
    "collapsed": true
   },
   "outputs": [],
   "source": [
    "data = pd.read_excel('run-data.xlsx')"
   ]
  },
  {
   "cell_type": "code",
   "execution_count": 3,
   "metadata": {},
   "outputs": [
    {
     "data": {
      "text/plain": [
       "(16, 28)"
      ]
     },
     "execution_count": 3,
     "metadata": {},
     "output_type": "execute_result"
    }
   ],
   "source": [
    "data.shape"
   ]
  },
  {
   "cell_type": "code",
   "execution_count": 4,
   "metadata": {
    "collapsed": true
   },
   "outputs": [],
   "source": [
    "# data.drop(len(data)-1, inplace=True)"
   ]
  },
  {
   "cell_type": "code",
   "execution_count": 5,
   "metadata": {
    "collapsed": true
   },
   "outputs": [],
   "source": [
    "# data.to_excel('../run-data.xlsx', index=False)"
   ]
  },
  {
   "cell_type": "code",
   "execution_count": 6,
   "metadata": {},
   "outputs": [
    {
     "data": {
      "text/html": [
       "<div>\n",
       "<style scoped>\n",
       "    .dataframe tbody tr th:only-of-type {\n",
       "        vertical-align: middle;\n",
       "    }\n",
       "\n",
       "    .dataframe tbody tr th {\n",
       "        vertical-align: top;\n",
       "    }\n",
       "\n",
       "    .dataframe thead th {\n",
       "        text-align: right;\n",
       "    }\n",
       "</style>\n",
       "<table border=\"1\" class=\"dataframe\">\n",
       "  <thead>\n",
       "    <tr style=\"text-align: right;\">\n",
       "      <th></th>\n",
       "      <th>rollout</th>\n",
       "      <th>waitingTime</th>\n",
       "      <th>time</th>\n",
       "      <th>rew</th>\n",
       "      <th>E_num_train_rollouts</th>\n",
       "      <th>E_rollout_length</th>\n",
       "      <th>E_eval_freq</th>\n",
       "      <th>E_eval_num_eps</th>\n",
       "      <th>E_max_ep_steps</th>\n",
       "      <th>E_generation_ep_steps</th>\n",
       "      <th>...</th>\n",
       "      <th>A_clip_grads</th>\n",
       "      <th>A_gradient_clip</th>\n",
       "      <th>A_value_loss_coef</th>\n",
       "      <th>O_num_agents</th>\n",
       "      <th>O_rule_set</th>\n",
       "      <th>O_rule_set_params</th>\n",
       "      <th>O_environment</th>\n",
       "      <th>O_NS_mult</th>\n",
       "      <th>O_EW_mult</th>\n",
       "      <th>O_phase_end_offset</th>\n",
       "    </tr>\n",
       "  </thead>\n",
       "  <tbody>\n",
       "    <tr>\n",
       "      <th>0</th>\n",
       "      <td>208</td>\n",
       "      <td>1861.870833</td>\n",
       "      <td>9.890320</td>\n",
       "      <td>413.011042</td>\n",
       "      <td>200</td>\n",
       "      <td>1024</td>\n",
       "      <td>48</td>\n",
       "      <td>30</td>\n",
       "      <td>900</td>\n",
       "      <td>750</td>\n",
       "      <td>...</td>\n",
       "      <td>True</td>\n",
       "      <td>1</td>\n",
       "      <td>1</td>\n",
       "      <td>8</td>\n",
       "      <td>NaN</td>\n",
       "      <td>{'cycle_length': 20}</td>\n",
       "      <td>four_intersections</td>\n",
       "      <td>1.5</td>\n",
       "      <td>1</td>\n",
       "      <td>100</td>\n",
       "    </tr>\n",
       "    <tr>\n",
       "      <th>1</th>\n",
       "      <td>208</td>\n",
       "      <td>1861.508333</td>\n",
       "      <td>10.057287</td>\n",
       "      <td>414.745000</td>\n",
       "      <td>200</td>\n",
       "      <td>1024</td>\n",
       "      <td>48</td>\n",
       "      <td>30</td>\n",
       "      <td>900</td>\n",
       "      <td>750</td>\n",
       "      <td>...</td>\n",
       "      <td>True</td>\n",
       "      <td>1</td>\n",
       "      <td>1</td>\n",
       "      <td>8</td>\n",
       "      <td>NaN</td>\n",
       "      <td>{'cycle_length': 20}</td>\n",
       "      <td>four_intersections</td>\n",
       "      <td>1.5</td>\n",
       "      <td>1</td>\n",
       "      <td>100</td>\n",
       "    </tr>\n",
       "    <tr>\n",
       "      <th>2</th>\n",
       "      <td>408</td>\n",
       "      <td>1840.322222</td>\n",
       "      <td>16.347096</td>\n",
       "      <td>403.694375</td>\n",
       "      <td>400</td>\n",
       "      <td>1024</td>\n",
       "      <td>48</td>\n",
       "      <td>30</td>\n",
       "      <td>900</td>\n",
       "      <td>750</td>\n",
       "      <td>...</td>\n",
       "      <td>True</td>\n",
       "      <td>1</td>\n",
       "      <td>1</td>\n",
       "      <td>8</td>\n",
       "      <td>NaN</td>\n",
       "      <td>{'cycle_length': 20}</td>\n",
       "      <td>four_intersections</td>\n",
       "      <td>1.5</td>\n",
       "      <td>1</td>\n",
       "      <td>100</td>\n",
       "    </tr>\n",
       "    <tr>\n",
       "      <th>3</th>\n",
       "      <td>408</td>\n",
       "      <td>1843.663889</td>\n",
       "      <td>16.367913</td>\n",
       "      <td>407.831875</td>\n",
       "      <td>400</td>\n",
       "      <td>1024</td>\n",
       "      <td>48</td>\n",
       "      <td>30</td>\n",
       "      <td>900</td>\n",
       "      <td>750</td>\n",
       "      <td>...</td>\n",
       "      <td>True</td>\n",
       "      <td>1</td>\n",
       "      <td>1</td>\n",
       "      <td>8</td>\n",
       "      <td>NaN</td>\n",
       "      <td>{'cycle_length': 20}</td>\n",
       "      <td>four_intersections</td>\n",
       "      <td>1.5</td>\n",
       "      <td>1</td>\n",
       "      <td>100</td>\n",
       "    </tr>\n",
       "    <tr>\n",
       "      <th>4</th>\n",
       "      <td>144</td>\n",
       "      <td>1859.706944</td>\n",
       "      <td>17.373463</td>\n",
       "      <td>416.635417</td>\n",
       "      <td>200</td>\n",
       "      <td>2048</td>\n",
       "      <td>48</td>\n",
       "      <td>30</td>\n",
       "      <td>900</td>\n",
       "      <td>750</td>\n",
       "      <td>...</td>\n",
       "      <td>True</td>\n",
       "      <td>1</td>\n",
       "      <td>1</td>\n",
       "      <td>8</td>\n",
       "      <td>NaN</td>\n",
       "      <td>{'cycle_length': 20}</td>\n",
       "      <td>four_intersections</td>\n",
       "      <td>1.5</td>\n",
       "      <td>1</td>\n",
       "      <td>100</td>\n",
       "    </tr>\n",
       "  </tbody>\n",
       "</table>\n",
       "<p>5 rows × 28 columns</p>\n",
       "</div>"
      ],
      "text/plain": [
       "   rollout  waitingTime       time         rew  E_num_train_rollouts  \\\n",
       "0      208  1861.870833   9.890320  413.011042                   200   \n",
       "1      208  1861.508333  10.057287  414.745000                   200   \n",
       "2      408  1840.322222  16.347096  403.694375                   400   \n",
       "3      408  1843.663889  16.367913  407.831875                   400   \n",
       "4      144  1859.706944  17.373463  416.635417                   200   \n",
       "\n",
       "   E_rollout_length  E_eval_freq  E_eval_num_eps  E_max_ep_steps  \\\n",
       "0              1024           48              30             900   \n",
       "1              1024           48              30             900   \n",
       "2              1024           48              30             900   \n",
       "3              1024           48              30             900   \n",
       "4              2048           48              30             900   \n",
       "\n",
       "   E_generation_ep_steps  ...  A_clip_grads  A_gradient_clip  \\\n",
       "0                    750  ...          True                1   \n",
       "1                    750  ...          True                1   \n",
       "2                    750  ...          True                1   \n",
       "3                    750  ...          True                1   \n",
       "4                    750  ...          True                1   \n",
       "\n",
       "   A_value_loss_coef  O_num_agents  O_rule_set     O_rule_set_params  \\\n",
       "0                  1             8         NaN  {'cycle_length': 20}   \n",
       "1                  1             8         NaN  {'cycle_length': 20}   \n",
       "2                  1             8         NaN  {'cycle_length': 20}   \n",
       "3                  1             8         NaN  {'cycle_length': 20}   \n",
       "4                  1             8         NaN  {'cycle_length': 20}   \n",
       "\n",
       "        O_environment  O_NS_mult  O_EW_mult  O_phase_end_offset  \n",
       "0  four_intersections        1.5          1                 100  \n",
       "1  four_intersections        1.5          1                 100  \n",
       "2  four_intersections        1.5          1                 100  \n",
       "3  four_intersections        1.5          1                 100  \n",
       "4  four_intersections        1.5          1                 100  \n",
       "\n",
       "[5 rows x 28 columns]"
      ]
     },
     "execution_count": 6,
     "metadata": {},
     "output_type": "execute_result"
    }
   ],
   "source": [
    "data.head()"
   ]
  },
  {
   "cell_type": "code",
   "execution_count": 32,
   "metadata": {},
   "outputs": [
    {
     "data": {
      "text/html": [
       "<div>\n",
       "<style scoped>\n",
       "    .dataframe tbody tr th:only-of-type {\n",
       "        vertical-align: middle;\n",
       "    }\n",
       "\n",
       "    .dataframe tbody tr th {\n",
       "        vertical-align: top;\n",
       "    }\n",
       "\n",
       "    .dataframe thead th {\n",
       "        text-align: right;\n",
       "    }\n",
       "</style>\n",
       "<table border=\"1\" class=\"dataframe\">\n",
       "  <thead>\n",
       "    <tr style=\"text-align: right;\">\n",
       "      <th></th>\n",
       "      <th>rollout</th>\n",
       "      <th>waitingTime</th>\n",
       "      <th>time</th>\n",
       "      <th>rew</th>\n",
       "      <th>E_num_train_rollouts</th>\n",
       "      <th>E_rollout_length</th>\n",
       "      <th>E_eval_freq</th>\n",
       "      <th>E_eval_num_eps</th>\n",
       "      <th>E_max_ep_steps</th>\n",
       "      <th>E_test_num_eps</th>\n",
       "      <th>...</th>\n",
       "      <th>A_optimization_epochs</th>\n",
       "      <th>A_ppo_ratio_clip</th>\n",
       "      <th>A_discount</th>\n",
       "      <th>A_learning_rate</th>\n",
       "      <th>A_clip_grads</th>\n",
       "      <th>A_gradient_clip</th>\n",
       "      <th>A_value_loss_coef</th>\n",
       "      <th>O_num_agents</th>\n",
       "      <th>O_rule_set</th>\n",
       "      <th>O_rule_set_params</th>\n",
       "    </tr>\n",
       "  </thead>\n",
       "  <tbody>\n",
       "    <tr>\n",
       "      <th>30</th>\n",
       "      <td>258</td>\n",
       "      <td>994.88</td>\n",
       "      <td>4.290420</td>\n",
       "      <td>645.457778</td>\n",
       "      <td>250</td>\n",
       "      <td>1024</td>\n",
       "      <td>98</td>\n",
       "      <td>25</td>\n",
       "      <td>1000</td>\n",
       "      <td>250</td>\n",
       "      <td>...</td>\n",
       "      <td>5</td>\n",
       "      <td>0.3</td>\n",
       "      <td>0.99</td>\n",
       "      <td>0.00001</td>\n",
       "      <td>True</td>\n",
       "      <td>1</td>\n",
       "      <td>1.0</td>\n",
       "      <td>8</td>\n",
       "      <td>NaN</td>\n",
       "      <td>{'length': 5}</td>\n",
       "    </tr>\n",
       "    <tr>\n",
       "      <th>118</th>\n",
       "      <td>251</td>\n",
       "      <td>998.33</td>\n",
       "      <td>5.760454</td>\n",
       "      <td>641.853333</td>\n",
       "      <td>250</td>\n",
       "      <td>1024</td>\n",
       "      <td>98</td>\n",
       "      <td>25</td>\n",
       "      <td>1000</td>\n",
       "      <td>250</td>\n",
       "      <td>...</td>\n",
       "      <td>15</td>\n",
       "      <td>0.3</td>\n",
       "      <td>0.99</td>\n",
       "      <td>0.00001</td>\n",
       "      <td>False</td>\n",
       "      <td>1</td>\n",
       "      <td>1.0</td>\n",
       "      <td>8</td>\n",
       "      <td>NaN</td>\n",
       "      <td>{'length': 5}</td>\n",
       "    </tr>\n",
       "  </tbody>\n",
       "</table>\n",
       "<p>2 rows × 25 columns</p>\n",
       "</div>"
      ],
      "text/plain": [
       "     rollout  waitingTime      time         rew  E_num_train_rollouts  \\\n",
       "30       258       994.88  4.290420  645.457778                   250   \n",
       "118      251       998.33  5.760454  641.853333                   250   \n",
       "\n",
       "     E_rollout_length  E_eval_freq  E_eval_num_eps  E_max_ep_steps  \\\n",
       "30               1024           98              25            1000   \n",
       "118              1024           98              25            1000   \n",
       "\n",
       "     E_test_num_eps  ...  A_optimization_epochs  A_ppo_ratio_clip  A_discount  \\\n",
       "30              250  ...                      5               0.3        0.99   \n",
       "118             250  ...                     15               0.3        0.99   \n",
       "\n",
       "     A_learning_rate  A_clip_grads  A_gradient_clip  A_value_loss_coef  \\\n",
       "30           0.00001          True                1                1.0   \n",
       "118          0.00001         False                1                1.0   \n",
       "\n",
       "     O_num_agents  O_rule_set  O_rule_set_params  \n",
       "30              8         NaN      {'length': 5}  \n",
       "118             8         NaN      {'length': 5}  \n",
       "\n",
       "[2 rows x 25 columns]"
      ]
     },
     "execution_count": 32,
     "metadata": {},
     "output_type": "execute_result"
    }
   ],
   "source": [
    "data[data['waitingTime'] < 1000]`"
   ]
  },
  {
   "cell_type": "markdown",
   "metadata": {},
   "source": [
    "# Notes\n",
    "- rollout_length: at least 1024 (test higher)\n",
    "- gae_tau: at most 0.9 (maybe lower)\n",
    "- entropy_weight: at least 0.1 (test higher)\n",
    "- minibatch_size: at least 128 (maybe higher)\n",
    "- optimization_epochs: 5 but 10 is very close\n",
    "- ppo_ratio_clip: 0.3 but 0.2 is close\n",
    "- clip_grads: true\n",
    "- value_loss_coef: 1.0\n",
    "\n",
    "\n",
    "- NS_mult: 1.0 or 1.5\n",
    "- phase_end_offset: any (0 - 100)\n",
    "- multi intersection cycle length: 20\n",
    "- (best combo 1.5, 100, 20)"
   ]
  },
  {
   "cell_type": "code",
   "execution_count": 8,
   "metadata": {},
   "outputs": [
    {
     "data": {
      "text/plain": [
       "2115.3046874999995"
      ]
     },
     "execution_count": 8,
     "metadata": {},
     "output_type": "execute_result"
    }
   ],
   "source": [
    "data[data['E_num_train_rollouts'] == 200]['waitingTime'].mean()"
   ]
  },
  {
   "cell_type": "code",
   "execution_count": 9,
   "metadata": {
    "scrolled": false
   },
   "outputs": [
    {
     "data": {
      "text/plain": [
       "1895.862326388889"
      ]
     },
     "execution_count": 9,
     "metadata": {},
     "output_type": "execute_result"
    }
   ],
   "source": [
    "data[data['E_num_train_rollouts'] == 400]['waitingTime'].mean()"
   ]
  },
  {
   "cell_type": "code",
   "execution_count": 19,
   "metadata": {},
   "outputs": [
    {
     "data": {
      "text/plain": [
       "1768.1567429193901"
      ]
     },
     "execution_count": 19,
     "metadata": {},
     "output_type": "execute_result"
    }
   ],
   "source": [
    "data[data['O_phase_end_offset'] == 100]['waitingTime'].mean()"
   ]
  },
  {
   "cell_type": "code",
   "execution_count": 24,
   "metadata": {},
   "outputs": [
    {
     "data": {
      "text/plain": [
       "[\"{'cycle_length': 20}\",\n",
       " \"{'cycle_length': 30}\",\n",
       " \"{'cycle_length': 40}\",\n",
       " \"{'cycle_length': 20, 'phases': [{'duration': 0.25, 'probs': {'northLeft': {'gen': 0.01, 'rem': 0.27777777777777773}, 'northRight': {'gen': 0.01, 'rem': 0.27777777777777773}, 'southLeft': {'gen': 0.2, 'rem': 0.05555555555555555}, 'southRight': {'gen': 0.2, 'rem': 0.05555555555555555}, 'westTop': {'gen': 0.01, 'rem': 0.1111111111111111}, 'eastTop': {'gen': 0.01, 'rem': 0.1111111111111111}, 'westBottom': {'gen': 0.05, 'rem': 0.05555555555555555}, 'eastBottom': {'gen': 0.05, 'rem': 0.05555555555555555}}}, {'duration': 0.5, 'probs': {'northLeft': {'gen': 0.1, 'rem': 0.12500000000000003}, 'northRight': {'gen': 0.1, 'rem': 0.12500000000000003}, 'southLeft': {'gen': 0.1, 'rem': 0.12500000000000003}, 'southRight': {'gen': 0.1, 'rem': 0.12500000000000003}, 'westTop': {'gen': 0.1, 'rem': 0.12500000000000003}, 'eastTop': {'gen': 0.1, 'rem': 0.12500000000000003}, 'westBottom': {'gen': 0.1, 'rem': 0.12500000000000003}, 'eastBottom': {'gen': 0.1, 'rem': 0.12500000000000003}}}, {'duration': 0.25, 'probs': {'northLeft': {'gen': 0.2, 'rem': 0.05555555555555556}, 'northRight': {'gen': 0.2, 'rem': 0.05555555555555556}, 'southLeft': {'gen': 0.01, 'rem': 0.2777777777777778}, 'southRight': {'gen': 0.01, 'rem': 0.2777777777777778}, 'westTop': {'gen': 0.05, 'rem': 0.05555555555555556}, 'eastTop': {'gen': 0.05, 'rem': 0.05555555555555556}, 'westBottom': {'gen': 0.01, 'rem': 0.11111111111111112}, 'eastBottom': {'gen': 0.01, 'rem': 0.11111111111111112}}}]}\",\n",
       " \"{'cycle_length': 30, 'phases': [{'duration': 0.25, 'probs': {'northLeft': {'gen': 0.01, 'rem': 0.27777777777777773}, 'northRight': {'gen': 0.01, 'rem': 0.27777777777777773}, 'southLeft': {'gen': 0.2, 'rem': 0.05555555555555555}, 'southRight': {'gen': 0.2, 'rem': 0.05555555555555555}, 'westTop': {'gen': 0.01, 'rem': 0.1111111111111111}, 'eastTop': {'gen': 0.01, 'rem': 0.1111111111111111}, 'westBottom': {'gen': 0.05, 'rem': 0.05555555555555555}, 'eastBottom': {'gen': 0.05, 'rem': 0.05555555555555555}}}, {'duration': 0.5, 'probs': {'northLeft': {'gen': 0.1, 'rem': 0.12500000000000003}, 'northRight': {'gen': 0.1, 'rem': 0.12500000000000003}, 'southLeft': {'gen': 0.1, 'rem': 0.12500000000000003}, 'southRight': {'gen': 0.1, 'rem': 0.12500000000000003}, 'westTop': {'gen': 0.1, 'rem': 0.12500000000000003}, 'eastTop': {'gen': 0.1, 'rem': 0.12500000000000003}, 'westBottom': {'gen': 0.1, 'rem': 0.12500000000000003}, 'eastBottom': {'gen': 0.1, 'rem': 0.12500000000000003}}}, {'duration': 0.25, 'probs': {'northLeft': {'gen': 0.2, 'rem': 0.05555555555555556}, 'northRight': {'gen': 0.2, 'rem': 0.05555555555555556}, 'southLeft': {'gen': 0.01, 'rem': 0.2777777777777778}, 'southRight': {'gen': 0.01, 'rem': 0.2777777777777778}, 'westTop': {'gen': 0.05, 'rem': 0.05555555555555556}, 'eastTop': {'gen': 0.05, 'rem': 0.05555555555555556}, 'westBottom': {'gen': 0.01, 'rem': 0.11111111111111112}, 'eastBottom': {'gen': 0.01, 'rem': 0.11111111111111112}}}]}\",\n",
       " \"{'cycle_length': 40, 'phases': [{'duration': 0.25, 'probs': {'northLeft': {'gen': 0.01, 'rem': 0.27777777777777773}, 'northRight': {'gen': 0.01, 'rem': 0.27777777777777773}, 'southLeft': {'gen': 0.2, 'rem': 0.05555555555555555}, 'southRight': {'gen': 0.2, 'rem': 0.05555555555555555}, 'westTop': {'gen': 0.01, 'rem': 0.1111111111111111}, 'eastTop': {'gen': 0.01, 'rem': 0.1111111111111111}, 'westBottom': {'gen': 0.05, 'rem': 0.05555555555555555}, 'eastBottom': {'gen': 0.05, 'rem': 0.05555555555555555}}}, {'duration': 0.5, 'probs': {'northLeft': {'gen': 0.1, 'rem': 0.12500000000000003}, 'northRight': {'gen': 0.1, 'rem': 0.12500000000000003}, 'southLeft': {'gen': 0.1, 'rem': 0.12500000000000003}, 'southRight': {'gen': 0.1, 'rem': 0.12500000000000003}, 'westTop': {'gen': 0.1, 'rem': 0.12500000000000003}, 'eastTop': {'gen': 0.1, 'rem': 0.12500000000000003}, 'westBottom': {'gen': 0.1, 'rem': 0.12500000000000003}, 'eastBottom': {'gen': 0.1, 'rem': 0.12500000000000003}}}, {'duration': 0.25, 'probs': {'northLeft': {'gen': 0.2, 'rem': 0.05555555555555556}, 'northRight': {'gen': 0.2, 'rem': 0.05555555555555556}, 'southLeft': {'gen': 0.01, 'rem': 0.2777777777777778}, 'southRight': {'gen': 0.01, 'rem': 0.2777777777777778}, 'westTop': {'gen': 0.05, 'rem': 0.05555555555555556}, 'eastTop': {'gen': 0.05, 'rem': 0.05555555555555556}, 'westBottom': {'gen': 0.01, 'rem': 0.11111111111111112}, 'eastBottom': {'gen': 0.01, 'rem': 0.11111111111111112}}}]}\",\n",
       " \"{'cycle_length': 20, 'phases': [{'duration': 0.25, 'probs': {'northLeft': {'gen': 0.01, 'rem': 0.27777777777777773}, 'northRight': {'gen': 0.01, 'rem': 0.27777777777777773}, 'southLeft': {'gen': 0.2, 'rem': 0.05555555555555555}, 'southRight': {'gen': 0.2, 'rem': 0.05555555555555555}, 'westTop': {'gen': 0.01, 'rem': 0.1111111111111111}, 'eastTop': {'gen': 0.01, 'rem': 0.1111111111111111}, 'westBottom': {'gen': 0.05, 'rem': 0.05555555555555555}, 'eastBottom': {'gen': 0.05, 'rem': 0.05555555555555555}}}, {'duration': 0.5, 'probs': {'northLeft': {'gen': 0.1, 'rem': 0.12500000000000003}, 'northRight': {'gen': 0.1, 'rem': 0.12500000000000003}, 'southLeft': {'gen': 0.1, 'rem': 0.12500000000000003}, 'southRight': {'gen': 0.1, 'rem': 0.12500000000000003}, 'westTop': {'gen': 0.1, 'rem': 0.12500000000000003}, 'eastTop': {'gen': 0.1, 'rem': 0.12500000000000003}, 'westBottom': {'gen': 0.1, 'rem': 0.12500000000000003}, 'eastBottom': {'gen': 0.1, 'rem': 0.12500000000000003}}}, {'duration': 0.25, 'probs': {'northLeft': {'gen': 0.2, 'rem': 0.05555555555555556}, 'northRight': {'gen': 0.2, 'rem': 0.05555555555555556}, 'southLeft': {'gen': 0.01, 'rem': 0.2777777777777778}, 'southRight': {'gen': 0.01, 'rem': 0.2777777777777778}, 'westTop': {'gen': 0.05, 'rem': 0.05555555555555556}, 'eastTop': {'gen': 0.05, 'rem': 0.05555555555555556}, 'westBottom': {'gen': 0.01, 'rem': 0.11111111111111112}, 'eastBottom': {'gen': 0.01, 'rem': 0.11111111111111112}}}]}\",\n",
       " \"{'cycle_length': 30, 'phases': [{'duration': 0.25, 'probs': {'northLeft': {'gen': 0.01, 'rem': 0.27777777777777773}, 'northRight': {'gen': 0.01, 'rem': 0.27777777777777773}, 'southLeft': {'gen': 0.2, 'rem': 0.05555555555555555}, 'southRight': {'gen': 0.2, 'rem': 0.05555555555555555}, 'westTop': {'gen': 0.01, 'rem': 0.1111111111111111}, 'eastTop': {'gen': 0.01, 'rem': 0.1111111111111111}, 'westBottom': {'gen': 0.05, 'rem': 0.05555555555555555}, 'eastBottom': {'gen': 0.05, 'rem': 0.05555555555555555}}}, {'duration': 0.5, 'probs': {'northLeft': {'gen': 0.1, 'rem': 0.12500000000000003}, 'northRight': {'gen': 0.1, 'rem': 0.12500000000000003}, 'southLeft': {'gen': 0.1, 'rem': 0.12500000000000003}, 'southRight': {'gen': 0.1, 'rem': 0.12500000000000003}, 'westTop': {'gen': 0.1, 'rem': 0.12500000000000003}, 'eastTop': {'gen': 0.1, 'rem': 0.12500000000000003}, 'westBottom': {'gen': 0.1, 'rem': 0.12500000000000003}, 'eastBottom': {'gen': 0.1, 'rem': 0.12500000000000003}}}, {'duration': 0.25, 'probs': {'northLeft': {'gen': 0.2, 'rem': 0.05555555555555556}, 'northRight': {'gen': 0.2, 'rem': 0.05555555555555556}, 'southLeft': {'gen': 0.01, 'rem': 0.2777777777777778}, 'southRight': {'gen': 0.01, 'rem': 0.2777777777777778}, 'westTop': {'gen': 0.05, 'rem': 0.05555555555555556}, 'eastTop': {'gen': 0.05, 'rem': 0.05555555555555556}, 'westBottom': {'gen': 0.01, 'rem': 0.11111111111111112}, 'eastBottom': {'gen': 0.01, 'rem': 0.11111111111111112}}}]}\",\n",
       " \"{'cycle_length': 40, 'phases': [{'duration': 0.25, 'probs': {'northLeft': {'gen': 0.01, 'rem': 0.27777777777777773}, 'northRight': {'gen': 0.01, 'rem': 0.27777777777777773}, 'southLeft': {'gen': 0.2, 'rem': 0.05555555555555555}, 'southRight': {'gen': 0.2, 'rem': 0.05555555555555555}, 'westTop': {'gen': 0.01, 'rem': 0.1111111111111111}, 'eastTop': {'gen': 0.01, 'rem': 0.1111111111111111}, 'westBottom': {'gen': 0.05, 'rem': 0.05555555555555555}, 'eastBottom': {'gen': 0.05, 'rem': 0.05555555555555555}}}, {'duration': 0.5, 'probs': {'northLeft': {'gen': 0.1, 'rem': 0.12500000000000003}, 'northRight': {'gen': 0.1, 'rem': 0.12500000000000003}, 'southLeft': {'gen': 0.1, 'rem': 0.12500000000000003}, 'southRight': {'gen': 0.1, 'rem': 0.12500000000000003}, 'westTop': {'gen': 0.1, 'rem': 0.12500000000000003}, 'eastTop': {'gen': 0.1, 'rem': 0.12500000000000003}, 'westBottom': {'gen': 0.1, 'rem': 0.12500000000000003}, 'eastBottom': {'gen': 0.1, 'rem': 0.12500000000000003}}}, {'duration': 0.25, 'probs': {'northLeft': {'gen': 0.2, 'rem': 0.05555555555555556}, 'northRight': {'gen': 0.2, 'rem': 0.05555555555555556}, 'southLeft': {'gen': 0.01, 'rem': 0.2777777777777778}, 'southRight': {'gen': 0.01, 'rem': 0.2777777777777778}, 'westTop': {'gen': 0.05, 'rem': 0.05555555555555556}, 'eastTop': {'gen': 0.05, 'rem': 0.05555555555555556}, 'westBottom': {'gen': 0.01, 'rem': 0.11111111111111112}, 'eastBottom': {'gen': 0.01, 'rem': 0.11111111111111112}}}]}\",\n",
       " \"{'cycle_length': 20, 'phases': [{'duration': 0.25, 'probs': {'northLeft': {'gen': 0.01, 'rem': 0.27777777777777773}, 'northRight': {'gen': 0.01, 'rem': 0.27777777777777773}, 'southLeft': {'gen': 0.2, 'rem': 0.05555555555555555}, 'southRight': {'gen': 0.2, 'rem': 0.05555555555555555}, 'westTop': {'gen': 0.01, 'rem': 0.1111111111111111}, 'eastTop': {'gen': 0.01, 'rem': 0.1111111111111111}, 'westBottom': {'gen': 0.05, 'rem': 0.05555555555555555}, 'eastBottom': {'gen': 0.05, 'rem': 0.05555555555555555}}}, {'duration': 0.5, 'probs': {'northLeft': {'gen': 0.1, 'rem': 0.12500000000000003}, 'northRight': {'gen': 0.1, 'rem': 0.12500000000000003}, 'southLeft': {'gen': 0.1, 'rem': 0.12500000000000003}, 'southRight': {'gen': 0.1, 'rem': 0.12500000000000003}, 'westTop': {'gen': 0.1, 'rem': 0.12500000000000003}, 'eastTop': {'gen': 0.1, 'rem': 0.12500000000000003}, 'westBottom': {'gen': 0.1, 'rem': 0.12500000000000003}, 'eastBottom': {'gen': 0.1, 'rem': 0.12500000000000003}}}, {'duration': 0.25, 'probs': {'northLeft': {'gen': 0.2, 'rem': 0.05555555555555556}, 'northRight': {'gen': 0.2, 'rem': 0.05555555555555556}, 'southLeft': {'gen': 0.01, 'rem': 0.2777777777777778}, 'southRight': {'gen': 0.01, 'rem': 0.2777777777777778}, 'westTop': {'gen': 0.05, 'rem': 0.05555555555555556}, 'eastTop': {'gen': 0.05, 'rem': 0.05555555555555556}, 'westBottom': {'gen': 0.01, 'rem': 0.11111111111111112}, 'eastBottom': {'gen': 0.01, 'rem': 0.11111111111111112}}}]}\",\n",
       " \"{'cycle_length': 30, 'phases': [{'duration': 0.25, 'probs': {'northLeft': {'gen': 0.01, 'rem': 0.27777777777777773}, 'northRight': {'gen': 0.01, 'rem': 0.27777777777777773}, 'southLeft': {'gen': 0.2, 'rem': 0.05555555555555555}, 'southRight': {'gen': 0.2, 'rem': 0.05555555555555555}, 'westTop': {'gen': 0.01, 'rem': 0.1111111111111111}, 'eastTop': {'gen': 0.01, 'rem': 0.1111111111111111}, 'westBottom': {'gen': 0.05, 'rem': 0.05555555555555555}, 'eastBottom': {'gen': 0.05, 'rem': 0.05555555555555555}}}, {'duration': 0.5, 'probs': {'northLeft': {'gen': 0.1, 'rem': 0.12500000000000003}, 'northRight': {'gen': 0.1, 'rem': 0.12500000000000003}, 'southLeft': {'gen': 0.1, 'rem': 0.12500000000000003}, 'southRight': {'gen': 0.1, 'rem': 0.12500000000000003}, 'westTop': {'gen': 0.1, 'rem': 0.12500000000000003}, 'eastTop': {'gen': 0.1, 'rem': 0.12500000000000003}, 'westBottom': {'gen': 0.1, 'rem': 0.12500000000000003}, 'eastBottom': {'gen': 0.1, 'rem': 0.12500000000000003}}}, {'duration': 0.25, 'probs': {'northLeft': {'gen': 0.2, 'rem': 0.05555555555555556}, 'northRight': {'gen': 0.2, 'rem': 0.05555555555555556}, 'southLeft': {'gen': 0.01, 'rem': 0.2777777777777778}, 'southRight': {'gen': 0.01, 'rem': 0.2777777777777778}, 'westTop': {'gen': 0.05, 'rem': 0.05555555555555556}, 'eastTop': {'gen': 0.05, 'rem': 0.05555555555555556}, 'westBottom': {'gen': 0.01, 'rem': 0.11111111111111112}, 'eastBottom': {'gen': 0.01, 'rem': 0.11111111111111112}}}]}\",\n",
       " \"{'cycle_length': 40, 'phases': [{'duration': 0.25, 'probs': {'northLeft': {'gen': 0.01, 'rem': 0.27777777777777773}, 'northRight': {'gen': 0.01, 'rem': 0.27777777777777773}, 'southLeft': {'gen': 0.2, 'rem': 0.05555555555555555}, 'southRight': {'gen': 0.2, 'rem': 0.05555555555555555}, 'westTop': {'gen': 0.01, 'rem': 0.1111111111111111}, 'eastTop': {'gen': 0.01, 'rem': 0.1111111111111111}, 'westBottom': {'gen': 0.05, 'rem': 0.05555555555555555}, 'eastBottom': {'gen': 0.05, 'rem': 0.05555555555555555}}}, {'duration': 0.5, 'probs': {'northLeft': {'gen': 0.1, 'rem': 0.12500000000000003}, 'northRight': {'gen': 0.1, 'rem': 0.12500000000000003}, 'southLeft': {'gen': 0.1, 'rem': 0.12500000000000003}, 'southRight': {'gen': 0.1, 'rem': 0.12500000000000003}, 'westTop': {'gen': 0.1, 'rem': 0.12500000000000003}, 'eastTop': {'gen': 0.1, 'rem': 0.12500000000000003}, 'westBottom': {'gen': 0.1, 'rem': 0.12500000000000003}, 'eastBottom': {'gen': 0.1, 'rem': 0.12500000000000003}}}, {'duration': 0.25, 'probs': {'northLeft': {'gen': 0.2, 'rem': 0.05555555555555556}, 'northRight': {'gen': 0.2, 'rem': 0.05555555555555556}, 'southLeft': {'gen': 0.01, 'rem': 0.2777777777777778}, 'southRight': {'gen': 0.01, 'rem': 0.2777777777777778}, 'westTop': {'gen': 0.05, 'rem': 0.05555555555555556}, 'eastTop': {'gen': 0.05, 'rem': 0.05555555555555556}, 'westBottom': {'gen': 0.01, 'rem': 0.11111111111111112}, 'eastBottom': {'gen': 0.01, 'rem': 0.11111111111111112}}}]}\",\n",
       " \"{'cycle_length': 20, 'phases': [{'duration': 0.25, 'probs': {'northLeft': {'gen': 0.01, 'rem': 0.27777777777777773}, 'northRight': {'gen': 0.01, 'rem': 0.27777777777777773}, 'southLeft': {'gen': 0.2, 'rem': 0.05555555555555555}, 'southRight': {'gen': 0.2, 'rem': 0.05555555555555555}, 'westTop': {'gen': 0.01, 'rem': 0.1111111111111111}, 'eastTop': {'gen': 0.01, 'rem': 0.1111111111111111}, 'westBottom': {'gen': 0.05, 'rem': 0.05555555555555555}, 'eastBottom': {'gen': 0.05, 'rem': 0.05555555555555555}}}, {'duration': 0.5, 'probs': {'northLeft': {'gen': 0.1, 'rem': 0.12500000000000003}, 'northRight': {'gen': 0.1, 'rem': 0.12500000000000003}, 'southLeft': {'gen': 0.1, 'rem': 0.12500000000000003}, 'southRight': {'gen': 0.1, 'rem': 0.12500000000000003}, 'westTop': {'gen': 0.1, 'rem': 0.12500000000000003}, 'eastTop': {'gen': 0.1, 'rem': 0.12500000000000003}, 'westBottom': {'gen': 0.1, 'rem': 0.12500000000000003}, 'eastBottom': {'gen': 0.1, 'rem': 0.12500000000000003}}}, {'duration': 0.25, 'probs': {'northLeft': {'gen': 0.2, 'rem': 0.05555555555555556}, 'northRight': {'gen': 0.2, 'rem': 0.05555555555555556}, 'southLeft': {'gen': 0.01, 'rem': 0.2777777777777778}, 'southRight': {'gen': 0.01, 'rem': 0.2777777777777778}, 'westTop': {'gen': 0.05, 'rem': 0.05555555555555556}, 'eastTop': {'gen': 0.05, 'rem': 0.05555555555555556}, 'westBottom': {'gen': 0.01, 'rem': 0.11111111111111112}, 'eastBottom': {'gen': 0.01, 'rem': 0.11111111111111112}}}]}\",\n",
       " \"{'cycle_length': 30, 'phases': [{'duration': 0.25, 'probs': {'northLeft': {'gen': 0.01, 'rem': 0.27777777777777773}, 'northRight': {'gen': 0.01, 'rem': 0.27777777777777773}, 'southLeft': {'gen': 0.2, 'rem': 0.05555555555555555}, 'southRight': {'gen': 0.2, 'rem': 0.05555555555555555}, 'westTop': {'gen': 0.01, 'rem': 0.1111111111111111}, 'eastTop': {'gen': 0.01, 'rem': 0.1111111111111111}, 'westBottom': {'gen': 0.05, 'rem': 0.05555555555555555}, 'eastBottom': {'gen': 0.05, 'rem': 0.05555555555555555}}}, {'duration': 0.5, 'probs': {'northLeft': {'gen': 0.1, 'rem': 0.12500000000000003}, 'northRight': {'gen': 0.1, 'rem': 0.12500000000000003}, 'southLeft': {'gen': 0.1, 'rem': 0.12500000000000003}, 'southRight': {'gen': 0.1, 'rem': 0.12500000000000003}, 'westTop': {'gen': 0.1, 'rem': 0.12500000000000003}, 'eastTop': {'gen': 0.1, 'rem': 0.12500000000000003}, 'westBottom': {'gen': 0.1, 'rem': 0.12500000000000003}, 'eastBottom': {'gen': 0.1, 'rem': 0.12500000000000003}}}, {'duration': 0.25, 'probs': {'northLeft': {'gen': 0.2, 'rem': 0.05555555555555556}, 'northRight': {'gen': 0.2, 'rem': 0.05555555555555556}, 'southLeft': {'gen': 0.01, 'rem': 0.2777777777777778}, 'southRight': {'gen': 0.01, 'rem': 0.2777777777777778}, 'westTop': {'gen': 0.05, 'rem': 0.05555555555555556}, 'eastTop': {'gen': 0.05, 'rem': 0.05555555555555556}, 'westBottom': {'gen': 0.01, 'rem': 0.11111111111111112}, 'eastBottom': {'gen': 0.01, 'rem': 0.11111111111111112}}}]}\",\n",
       " \"{'cycle_length': 40, 'phases': [{'duration': 0.25, 'probs': {'northLeft': {'gen': 0.01, 'rem': 0.27777777777777773}, 'northRight': {'gen': 0.01, 'rem': 0.27777777777777773}, 'southLeft': {'gen': 0.2, 'rem': 0.05555555555555555}, 'southRight': {'gen': 0.2, 'rem': 0.05555555555555555}, 'westTop': {'gen': 0.01, 'rem': 0.1111111111111111}, 'eastTop': {'gen': 0.01, 'rem': 0.1111111111111111}, 'westBottom': {'gen': 0.05, 'rem': 0.05555555555555555}, 'eastBottom': {'gen': 0.05, 'rem': 0.05555555555555555}}}, {'duration': 0.5, 'probs': {'northLeft': {'gen': 0.1, 'rem': 0.12500000000000003}, 'northRight': {'gen': 0.1, 'rem': 0.12500000000000003}, 'southLeft': {'gen': 0.1, 'rem': 0.12500000000000003}, 'southRight': {'gen': 0.1, 'rem': 0.12500000000000003}, 'westTop': {'gen': 0.1, 'rem': 0.12500000000000003}, 'eastTop': {'gen': 0.1, 'rem': 0.12500000000000003}, 'westBottom': {'gen': 0.1, 'rem': 0.12500000000000003}, 'eastBottom': {'gen': 0.1, 'rem': 0.12500000000000003}}}, {'duration': 0.25, 'probs': {'northLeft': {'gen': 0.2, 'rem': 0.05555555555555556}, 'northRight': {'gen': 0.2, 'rem': 0.05555555555555556}, 'southLeft': {'gen': 0.01, 'rem': 0.2777777777777778}, 'southRight': {'gen': 0.01, 'rem': 0.2777777777777778}, 'westTop': {'gen': 0.05, 'rem': 0.05555555555555556}, 'eastTop': {'gen': 0.05, 'rem': 0.05555555555555556}, 'westBottom': {'gen': 0.01, 'rem': 0.11111111111111112}, 'eastBottom': {'gen': 0.01, 'rem': 0.11111111111111112}}}]}\",\n",
       " \"{'cycle_length': 20, 'phases': [{'duration': 0.25, 'probs': {'northLeft': {'gen': 0.01, 'rem': 0.27777777777777773}, 'northRight': {'gen': 0.01, 'rem': 0.27777777777777773}, 'southLeft': {'gen': 0.2, 'rem': 0.05555555555555555}, 'southRight': {'gen': 0.2, 'rem': 0.05555555555555555}, 'westTop': {'gen': 0.01, 'rem': 0.1111111111111111}, 'eastTop': {'gen': 0.01, 'rem': 0.1111111111111111}, 'westBottom': {'gen': 0.05, 'rem': 0.05555555555555555}, 'eastBottom': {'gen': 0.05, 'rem': 0.05555555555555555}}}, {'duration': 0.5, 'probs': {'northLeft': {'gen': 0.1, 'rem': 0.12500000000000003}, 'northRight': {'gen': 0.1, 'rem': 0.12500000000000003}, 'southLeft': {'gen': 0.1, 'rem': 0.12500000000000003}, 'southRight': {'gen': 0.1, 'rem': 0.12500000000000003}, 'westTop': {'gen': 0.1, 'rem': 0.12500000000000003}, 'eastTop': {'gen': 0.1, 'rem': 0.12500000000000003}, 'westBottom': {'gen': 0.1, 'rem': 0.12500000000000003}, 'eastBottom': {'gen': 0.1, 'rem': 0.12500000000000003}}}, {'duration': 0.25, 'probs': {'northLeft': {'gen': 0.2, 'rem': 0.05555555555555556}, 'northRight': {'gen': 0.2, 'rem': 0.05555555555555556}, 'southLeft': {'gen': 0.01, 'rem': 0.2777777777777778}, 'southRight': {'gen': 0.01, 'rem': 0.2777777777777778}, 'westTop': {'gen': 0.05, 'rem': 0.05555555555555556}, 'eastTop': {'gen': 0.05, 'rem': 0.05555555555555556}, 'westBottom': {'gen': 0.01, 'rem': 0.11111111111111112}, 'eastBottom': {'gen': 0.01, 'rem': 0.11111111111111112}}}]}\",\n",
       " \"{'cycle_length': 30, 'phases': [{'duration': 0.25, 'probs': {'northLeft': {'gen': 0.01, 'rem': 0.27777777777777773}, 'northRight': {'gen': 0.01, 'rem': 0.27777777777777773}, 'southLeft': {'gen': 0.2, 'rem': 0.05555555555555555}, 'southRight': {'gen': 0.2, 'rem': 0.05555555555555555}, 'westTop': {'gen': 0.01, 'rem': 0.1111111111111111}, 'eastTop': {'gen': 0.01, 'rem': 0.1111111111111111}, 'westBottom': {'gen': 0.05, 'rem': 0.05555555555555555}, 'eastBottom': {'gen': 0.05, 'rem': 0.05555555555555555}}}, {'duration': 0.5, 'probs': {'northLeft': {'gen': 0.1, 'rem': 0.12500000000000003}, 'northRight': {'gen': 0.1, 'rem': 0.12500000000000003}, 'southLeft': {'gen': 0.1, 'rem': 0.12500000000000003}, 'southRight': {'gen': 0.1, 'rem': 0.12500000000000003}, 'westTop': {'gen': 0.1, 'rem': 0.12500000000000003}, 'eastTop': {'gen': 0.1, 'rem': 0.12500000000000003}, 'westBottom': {'gen': 0.1, 'rem': 0.12500000000000003}, 'eastBottom': {'gen': 0.1, 'rem': 0.12500000000000003}}}, {'duration': 0.25, 'probs': {'northLeft': {'gen': 0.2, 'rem': 0.05555555555555556}, 'northRight': {'gen': 0.2, 'rem': 0.05555555555555556}, 'southLeft': {'gen': 0.01, 'rem': 0.2777777777777778}, 'southRight': {'gen': 0.01, 'rem': 0.2777777777777778}, 'westTop': {'gen': 0.05, 'rem': 0.05555555555555556}, 'eastTop': {'gen': 0.05, 'rem': 0.05555555555555556}, 'westBottom': {'gen': 0.01, 'rem': 0.11111111111111112}, 'eastBottom': {'gen': 0.01, 'rem': 0.11111111111111112}}}]}\",\n",
       " \"{'cycle_length': 40, 'phases': [{'duration': 0.25, 'probs': {'northLeft': {'gen': 0.01, 'rem': 0.27777777777777773}, 'northRight': {'gen': 0.01, 'rem': 0.27777777777777773}, 'southLeft': {'gen': 0.2, 'rem': 0.05555555555555555}, 'southRight': {'gen': 0.2, 'rem': 0.05555555555555555}, 'westTop': {'gen': 0.01, 'rem': 0.1111111111111111}, 'eastTop': {'gen': 0.01, 'rem': 0.1111111111111111}, 'westBottom': {'gen': 0.05, 'rem': 0.05555555555555555}, 'eastBottom': {'gen': 0.05, 'rem': 0.05555555555555555}}}, {'duration': 0.5, 'probs': {'northLeft': {'gen': 0.1, 'rem': 0.12500000000000003}, 'northRight': {'gen': 0.1, 'rem': 0.12500000000000003}, 'southLeft': {'gen': 0.1, 'rem': 0.12500000000000003}, 'southRight': {'gen': 0.1, 'rem': 0.12500000000000003}, 'westTop': {'gen': 0.1, 'rem': 0.12500000000000003}, 'eastTop': {'gen': 0.1, 'rem': 0.12500000000000003}, 'westBottom': {'gen': 0.1, 'rem': 0.12500000000000003}, 'eastBottom': {'gen': 0.1, 'rem': 0.12500000000000003}}}, {'duration': 0.25, 'probs': {'northLeft': {'gen': 0.2, 'rem': 0.05555555555555556}, 'northRight': {'gen': 0.2, 'rem': 0.05555555555555556}, 'southLeft': {'gen': 0.01, 'rem': 0.2777777777777778}, 'southRight': {'gen': 0.01, 'rem': 0.2777777777777778}, 'westTop': {'gen': 0.05, 'rem': 0.05555555555555556}, 'eastTop': {'gen': 0.05, 'rem': 0.05555555555555556}, 'westBottom': {'gen': 0.01, 'rem': 0.11111111111111112}, 'eastBottom': {'gen': 0.01, 'rem': 0.11111111111111112}}}]}\",\n",
       " \"{'cycle_length': 20, 'phases': [{'duration': 0.25, 'probs': {'northLeft': {'gen': 0.01, 'rem': 0.27777777777777773}, 'northRight': {'gen': 0.01, 'rem': 0.27777777777777773}, 'southLeft': {'gen': 0.2, 'rem': 0.05555555555555555}, 'southRight': {'gen': 0.2, 'rem': 0.05555555555555555}, 'westTop': {'gen': 0.01, 'rem': 0.1111111111111111}, 'eastTop': {'gen': 0.01, 'rem': 0.1111111111111111}, 'westBottom': {'gen': 0.05, 'rem': 0.05555555555555555}, 'eastBottom': {'gen': 0.05, 'rem': 0.05555555555555555}}}, {'duration': 0.5, 'probs': {'northLeft': {'gen': 0.1, 'rem': 0.12500000000000003}, 'northRight': {'gen': 0.1, 'rem': 0.12500000000000003}, 'southLeft': {'gen': 0.1, 'rem': 0.12500000000000003}, 'southRight': {'gen': 0.1, 'rem': 0.12500000000000003}, 'westTop': {'gen': 0.1, 'rem': 0.12500000000000003}, 'eastTop': {'gen': 0.1, 'rem': 0.12500000000000003}, 'westBottom': {'gen': 0.1, 'rem': 0.12500000000000003}, 'eastBottom': {'gen': 0.1, 'rem': 0.12500000000000003}}}, {'duration': 0.25, 'probs': {'northLeft': {'gen': 0.2, 'rem': 0.05555555555555556}, 'northRight': {'gen': 0.2, 'rem': 0.05555555555555556}, 'southLeft': {'gen': 0.01, 'rem': 0.2777777777777778}, 'southRight': {'gen': 0.01, 'rem': 0.2777777777777778}, 'westTop': {'gen': 0.05, 'rem': 0.05555555555555556}, 'eastTop': {'gen': 0.05, 'rem': 0.05555555555555556}, 'westBottom': {'gen': 0.01, 'rem': 0.11111111111111112}, 'eastBottom': {'gen': 0.01, 'rem': 0.11111111111111112}}}]}\",\n",
       " \"{'cycle_length': 30, 'phases': [{'duration': 0.25, 'probs': {'northLeft': {'gen': 0.01, 'rem': 0.27777777777777773}, 'northRight': {'gen': 0.01, 'rem': 0.27777777777777773}, 'southLeft': {'gen': 0.2, 'rem': 0.05555555555555555}, 'southRight': {'gen': 0.2, 'rem': 0.05555555555555555}, 'westTop': {'gen': 0.01, 'rem': 0.1111111111111111}, 'eastTop': {'gen': 0.01, 'rem': 0.1111111111111111}, 'westBottom': {'gen': 0.05, 'rem': 0.05555555555555555}, 'eastBottom': {'gen': 0.05, 'rem': 0.05555555555555555}}}, {'duration': 0.5, 'probs': {'northLeft': {'gen': 0.1, 'rem': 0.12500000000000003}, 'northRight': {'gen': 0.1, 'rem': 0.12500000000000003}, 'southLeft': {'gen': 0.1, 'rem': 0.12500000000000003}, 'southRight': {'gen': 0.1, 'rem': 0.12500000000000003}, 'westTop': {'gen': 0.1, 'rem': 0.12500000000000003}, 'eastTop': {'gen': 0.1, 'rem': 0.12500000000000003}, 'westBottom': {'gen': 0.1, 'rem': 0.12500000000000003}, 'eastBottom': {'gen': 0.1, 'rem': 0.12500000000000003}}}, {'duration': 0.25, 'probs': {'northLeft': {'gen': 0.2, 'rem': 0.05555555555555556}, 'northRight': {'gen': 0.2, 'rem': 0.05555555555555556}, 'southLeft': {'gen': 0.01, 'rem': 0.2777777777777778}, 'southRight': {'gen': 0.01, 'rem': 0.2777777777777778}, 'westTop': {'gen': 0.05, 'rem': 0.05555555555555556}, 'eastTop': {'gen': 0.05, 'rem': 0.05555555555555556}, 'westBottom': {'gen': 0.01, 'rem': 0.11111111111111112}, 'eastBottom': {'gen': 0.01, 'rem': 0.11111111111111112}}}]}\",\n",
       " \"{'cycle_length': 40, 'phases': [{'duration': 0.25, 'probs': {'northLeft': {'gen': 0.01, 'rem': 0.27777777777777773}, 'northRight': {'gen': 0.01, 'rem': 0.27777777777777773}, 'southLeft': {'gen': 0.2, 'rem': 0.05555555555555555}, 'southRight': {'gen': 0.2, 'rem': 0.05555555555555555}, 'westTop': {'gen': 0.01, 'rem': 0.1111111111111111}, 'eastTop': {'gen': 0.01, 'rem': 0.1111111111111111}, 'westBottom': {'gen': 0.05, 'rem': 0.05555555555555555}, 'eastBottom': {'gen': 0.05, 'rem': 0.05555555555555555}}}, {'duration': 0.5, 'probs': {'northLeft': {'gen': 0.1, 'rem': 0.12500000000000003}, 'northRight': {'gen': 0.1, 'rem': 0.12500000000000003}, 'southLeft': {'gen': 0.1, 'rem': 0.12500000000000003}, 'southRight': {'gen': 0.1, 'rem': 0.12500000000000003}, 'westTop': {'gen': 0.1, 'rem': 0.12500000000000003}, 'eastTop': {'gen': 0.1, 'rem': 0.12500000000000003}, 'westBottom': {'gen': 0.1, 'rem': 0.12500000000000003}, 'eastBottom': {'gen': 0.1, 'rem': 0.12500000000000003}}}, {'duration': 0.25, 'probs': {'northLeft': {'gen': 0.2, 'rem': 0.05555555555555556}, 'northRight': {'gen': 0.2, 'rem': 0.05555555555555556}, 'southLeft': {'gen': 0.01, 'rem': 0.2777777777777778}, 'southRight': {'gen': 0.01, 'rem': 0.2777777777777778}, 'westTop': {'gen': 0.05, 'rem': 0.05555555555555556}, 'eastTop': {'gen': 0.05, 'rem': 0.05555555555555556}, 'westBottom': {'gen': 0.01, 'rem': 0.11111111111111112}, 'eastBottom': {'gen': 0.01, 'rem': 0.11111111111111112}}}]}\",\n",
       " \"{'cycle_length': 20, 'phases': [{'duration': 0.25, 'probs': {'northLeft': {'gen': 0.01, 'rem': 0.27777777777777773}, 'northRight': {'gen': 0.01, 'rem': 0.27777777777777773}, 'southLeft': {'gen': 0.2, 'rem': 0.05555555555555555}, 'southRight': {'gen': 0.2, 'rem': 0.05555555555555555}, 'westTop': {'gen': 0.01, 'rem': 0.1111111111111111}, 'eastTop': {'gen': 0.01, 'rem': 0.1111111111111111}, 'westBottom': {'gen': 0.05, 'rem': 0.05555555555555555}, 'eastBottom': {'gen': 0.05, 'rem': 0.05555555555555555}}}, {'duration': 0.5, 'probs': {'northLeft': {'gen': 0.1, 'rem': 0.12500000000000003}, 'northRight': {'gen': 0.1, 'rem': 0.12500000000000003}, 'southLeft': {'gen': 0.1, 'rem': 0.12500000000000003}, 'southRight': {'gen': 0.1, 'rem': 0.12500000000000003}, 'westTop': {'gen': 0.1, 'rem': 0.12500000000000003}, 'eastTop': {'gen': 0.1, 'rem': 0.12500000000000003}, 'westBottom': {'gen': 0.1, 'rem': 0.12500000000000003}, 'eastBottom': {'gen': 0.1, 'rem': 0.12500000000000003}}}, {'duration': 0.25, 'probs': {'northLeft': {'gen': 0.2, 'rem': 0.05555555555555556}, 'northRight': {'gen': 0.2, 'rem': 0.05555555555555556}, 'southLeft': {'gen': 0.01, 'rem': 0.2777777777777778}, 'southRight': {'gen': 0.01, 'rem': 0.2777777777777778}, 'westTop': {'gen': 0.05, 'rem': 0.05555555555555556}, 'eastTop': {'gen': 0.05, 'rem': 0.05555555555555556}, 'westBottom': {'gen': 0.01, 'rem': 0.11111111111111112}, 'eastBottom': {'gen': 0.01, 'rem': 0.11111111111111112}}}]}\",\n",
       " \"{'cycle_length': 30, 'phases': [{'duration': 0.25, 'probs': {'northLeft': {'gen': 0.01, 'rem': 0.27777777777777773}, 'northRight': {'gen': 0.01, 'rem': 0.27777777777777773}, 'southLeft': {'gen': 0.2, 'rem': 0.05555555555555555}, 'southRight': {'gen': 0.2, 'rem': 0.05555555555555555}, 'westTop': {'gen': 0.01, 'rem': 0.1111111111111111}, 'eastTop': {'gen': 0.01, 'rem': 0.1111111111111111}, 'westBottom': {'gen': 0.05, 'rem': 0.05555555555555555}, 'eastBottom': {'gen': 0.05, 'rem': 0.05555555555555555}}}, {'duration': 0.5, 'probs': {'northLeft': {'gen': 0.1, 'rem': 0.12500000000000003}, 'northRight': {'gen': 0.1, 'rem': 0.12500000000000003}, 'southLeft': {'gen': 0.1, 'rem': 0.12500000000000003}, 'southRight': {'gen': 0.1, 'rem': 0.12500000000000003}, 'westTop': {'gen': 0.1, 'rem': 0.12500000000000003}, 'eastTop': {'gen': 0.1, 'rem': 0.12500000000000003}, 'westBottom': {'gen': 0.1, 'rem': 0.12500000000000003}, 'eastBottom': {'gen': 0.1, 'rem': 0.12500000000000003}}}, {'duration': 0.25, 'probs': {'northLeft': {'gen': 0.2, 'rem': 0.05555555555555556}, 'northRight': {'gen': 0.2, 'rem': 0.05555555555555556}, 'southLeft': {'gen': 0.01, 'rem': 0.2777777777777778}, 'southRight': {'gen': 0.01, 'rem': 0.2777777777777778}, 'westTop': {'gen': 0.05, 'rem': 0.05555555555555556}, 'eastTop': {'gen': 0.05, 'rem': 0.05555555555555556}, 'westBottom': {'gen': 0.01, 'rem': 0.11111111111111112}, 'eastBottom': {'gen': 0.01, 'rem': 0.11111111111111112}}}]}\",\n",
       " \"{'cycle_length': 40, 'phases': [{'duration': 0.25, 'probs': {'northLeft': {'gen': 0.01, 'rem': 0.27777777777777773}, 'northRight': {'gen': 0.01, 'rem': 0.27777777777777773}, 'southLeft': {'gen': 0.2, 'rem': 0.05555555555555555}, 'southRight': {'gen': 0.2, 'rem': 0.05555555555555555}, 'westTop': {'gen': 0.01, 'rem': 0.1111111111111111}, 'eastTop': {'gen': 0.01, 'rem': 0.1111111111111111}, 'westBottom': {'gen': 0.05, 'rem': 0.05555555555555555}, 'eastBottom': {'gen': 0.05, 'rem': 0.05555555555555555}}}, {'duration': 0.5, 'probs': {'northLeft': {'gen': 0.1, 'rem': 0.12500000000000003}, 'northRight': {'gen': 0.1, 'rem': 0.12500000000000003}, 'southLeft': {'gen': 0.1, 'rem': 0.12500000000000003}, 'southRight': {'gen': 0.1, 'rem': 0.12500000000000003}, 'westTop': {'gen': 0.1, 'rem': 0.12500000000000003}, 'eastTop': {'gen': 0.1, 'rem': 0.12500000000000003}, 'westBottom': {'gen': 0.1, 'rem': 0.12500000000000003}, 'eastBottom': {'gen': 0.1, 'rem': 0.12500000000000003}}}, {'duration': 0.25, 'probs': {'northLeft': {'gen': 0.2, 'rem': 0.05555555555555556}, 'northRight': {'gen': 0.2, 'rem': 0.05555555555555556}, 'southLeft': {'gen': 0.01, 'rem': 0.2777777777777778}, 'southRight': {'gen': 0.01, 'rem': 0.2777777777777778}, 'westTop': {'gen': 0.05, 'rem': 0.05555555555555556}, 'eastTop': {'gen': 0.05, 'rem': 0.05555555555555556}, 'westBottom': {'gen': 0.01, 'rem': 0.11111111111111112}, 'eastBottom': {'gen': 0.01, 'rem': 0.11111111111111112}}}]}\",\n",
       " \"{'cycle_length': 20, 'phases': [{'duration': 0.25, 'probs': {'northLeft': {'gen': 0.01, 'rem': 0.27777777777777773}, 'northRight': {'gen': 0.01, 'rem': 0.27777777777777773}, 'southLeft': {'gen': 0.2, 'rem': 0.05555555555555555}, 'southRight': {'gen': 0.2, 'rem': 0.05555555555555555}, 'westTop': {'gen': 0.01, 'rem': 0.1111111111111111}, 'eastTop': {'gen': 0.01, 'rem': 0.1111111111111111}, 'westBottom': {'gen': 0.05, 'rem': 0.05555555555555555}, 'eastBottom': {'gen': 0.05, 'rem': 0.05555555555555555}}}, {'duration': 0.5, 'probs': {'northLeft': {'gen': 0.1, 'rem': 0.12500000000000003}, 'northRight': {'gen': 0.1, 'rem': 0.12500000000000003}, 'southLeft': {'gen': 0.1, 'rem': 0.12500000000000003}, 'southRight': {'gen': 0.1, 'rem': 0.12500000000000003}, 'westTop': {'gen': 0.1, 'rem': 0.12500000000000003}, 'eastTop': {'gen': 0.1, 'rem': 0.12500000000000003}, 'westBottom': {'gen': 0.1, 'rem': 0.12500000000000003}, 'eastBottom': {'gen': 0.1, 'rem': 0.12500000000000003}}}, {'duration': 0.25, 'probs': {'northLeft': {'gen': 0.2, 'rem': 0.05555555555555556}, 'northRight': {'gen': 0.2, 'rem': 0.05555555555555556}, 'southLeft': {'gen': 0.01, 'rem': 0.2777777777777778}, 'southRight': {'gen': 0.01, 'rem': 0.2777777777777778}, 'westTop': {'gen': 0.05, 'rem': 0.05555555555555556}, 'eastTop': {'gen': 0.05, 'rem': 0.05555555555555556}, 'westBottom': {'gen': 0.01, 'rem': 0.11111111111111112}, 'eastBottom': {'gen': 0.01, 'rem': 0.11111111111111112}}}]}\",\n",
       " \"{'cycle_length': 30, 'phases': [{'duration': 0.25, 'probs': {'northLeft': {'gen': 0.01, 'rem': 0.27777777777777773}, 'northRight': {'gen': 0.01, 'rem': 0.27777777777777773}, 'southLeft': {'gen': 0.2, 'rem': 0.05555555555555555}, 'southRight': {'gen': 0.2, 'rem': 0.05555555555555555}, 'westTop': {'gen': 0.01, 'rem': 0.1111111111111111}, 'eastTop': {'gen': 0.01, 'rem': 0.1111111111111111}, 'westBottom': {'gen': 0.05, 'rem': 0.05555555555555555}, 'eastBottom': {'gen': 0.05, 'rem': 0.05555555555555555}}}, {'duration': 0.5, 'probs': {'northLeft': {'gen': 0.1, 'rem': 0.12500000000000003}, 'northRight': {'gen': 0.1, 'rem': 0.12500000000000003}, 'southLeft': {'gen': 0.1, 'rem': 0.12500000000000003}, 'southRight': {'gen': 0.1, 'rem': 0.12500000000000003}, 'westTop': {'gen': 0.1, 'rem': 0.12500000000000003}, 'eastTop': {'gen': 0.1, 'rem': 0.12500000000000003}, 'westBottom': {'gen': 0.1, 'rem': 0.12500000000000003}, 'eastBottom': {'gen': 0.1, 'rem': 0.12500000000000003}}}, {'duration': 0.25, 'probs': {'northLeft': {'gen': 0.2, 'rem': 0.05555555555555556}, 'northRight': {'gen': 0.2, 'rem': 0.05555555555555556}, 'southLeft': {'gen': 0.01, 'rem': 0.2777777777777778}, 'southRight': {'gen': 0.01, 'rem': 0.2777777777777778}, 'westTop': {'gen': 0.05, 'rem': 0.05555555555555556}, 'eastTop': {'gen': 0.05, 'rem': 0.05555555555555556}, 'westBottom': {'gen': 0.01, 'rem': 0.11111111111111112}, 'eastBottom': {'gen': 0.01, 'rem': 0.11111111111111112}}}]}\",\n",
       " \"{'cycle_length': 40, 'phases': [{'duration': 0.25, 'probs': {'northLeft': {'gen': 0.01, 'rem': 0.27777777777777773}, 'northRight': {'gen': 0.01, 'rem': 0.27777777777777773}, 'southLeft': {'gen': 0.2, 'rem': 0.05555555555555555}, 'southRight': {'gen': 0.2, 'rem': 0.05555555555555555}, 'westTop': {'gen': 0.01, 'rem': 0.1111111111111111}, 'eastTop': {'gen': 0.01, 'rem': 0.1111111111111111}, 'westBottom': {'gen': 0.05, 'rem': 0.05555555555555555}, 'eastBottom': {'gen': 0.05, 'rem': 0.05555555555555555}}}, {'duration': 0.5, 'probs': {'northLeft': {'gen': 0.1, 'rem': 0.12500000000000003}, 'northRight': {'gen': 0.1, 'rem': 0.12500000000000003}, 'southLeft': {'gen': 0.1, 'rem': 0.12500000000000003}, 'southRight': {'gen': 0.1, 'rem': 0.12500000000000003}, 'westTop': {'gen': 0.1, 'rem': 0.12500000000000003}, 'eastTop': {'gen': 0.1, 'rem': 0.12500000000000003}, 'westBottom': {'gen': 0.1, 'rem': 0.12500000000000003}, 'eastBottom': {'gen': 0.1, 'rem': 0.12500000000000003}}}, {'duration': 0.25, 'probs': {'northLeft': {'gen': 0.2, 'rem': 0.05555555555555556}, 'northRight': {'gen': 0.2, 'rem': 0.05555555555555556}, 'southLeft': {'gen': 0.01, 'rem': 0.2777777777777778}, 'southRight': {'gen': 0.01, 'rem': 0.2777777777777778}, 'westTop': {'gen': 0.05, 'rem': 0.05555555555555556}, 'eastTop': {'gen': 0.05, 'rem': 0.05555555555555556}, 'westBottom': {'gen': 0.01, 'rem': 0.11111111111111112}, 'eastBottom': {'gen': 0.01, 'rem': 0.11111111111111112}}}]}\"]"
      ]
     },
     "execution_count": 24,
     "metadata": {},
     "output_type": "execute_result"
    }
   ],
   "source": [
    "list(data['O_rule_set_params'])"
   ]
  },
  {
   "cell_type": "code",
   "execution_count": 23,
   "metadata": {},
   "outputs": [
    {
     "ename": "TypeError",
     "evalue": "string indices must be integers",
     "traceback": [
      "\u001b[1;31m---------------------------------------------------------------------------\u001b[0m",
      "\u001b[1;31mTypeError\u001b[0m                                 Traceback (most recent call last)",
      "\u001b[1;32m<ipython-input-23-319a5123adbf>\u001b[0m in \u001b[0;36m<module>\u001b[1;34m()\u001b[0m\n\u001b[1;32m----> 1\u001b[1;33m \u001b[1;33m[\u001b[0m\u001b[0mx\u001b[0m\u001b[1;33m[\u001b[0m\u001b[1;34m'cycle_length'\u001b[0m\u001b[1;33m]\u001b[0m \u001b[1;32mfor\u001b[0m \u001b[0mx\u001b[0m \u001b[1;32min\u001b[0m \u001b[0mlist\u001b[0m\u001b[1;33m(\u001b[0m\u001b[0mdata\u001b[0m\u001b[1;33m[\u001b[0m\u001b[1;34m'O_rule_set_params'\u001b[0m\u001b[1;33m]\u001b[0m\u001b[1;33m)\u001b[0m\u001b[1;33m]\u001b[0m\u001b[1;33m\u001b[0m\u001b[1;33m\u001b[0m\u001b[0m\n\u001b[0m",
      "\u001b[1;32m<ipython-input-23-319a5123adbf>\u001b[0m in \u001b[0;36m<listcomp>\u001b[1;34m(.0)\u001b[0m\n\u001b[1;32m----> 1\u001b[1;33m \u001b[1;33m[\u001b[0m\u001b[0mx\u001b[0m\u001b[1;33m[\u001b[0m\u001b[1;34m'cycle_length'\u001b[0m\u001b[1;33m]\u001b[0m \u001b[1;32mfor\u001b[0m \u001b[0mx\u001b[0m \u001b[1;32min\u001b[0m \u001b[0mlist\u001b[0m\u001b[1;33m(\u001b[0m\u001b[0mdata\u001b[0m\u001b[1;33m[\u001b[0m\u001b[1;34m'O_rule_set_params'\u001b[0m\u001b[1;33m]\u001b[0m\u001b[1;33m)\u001b[0m\u001b[1;33m]\u001b[0m\u001b[1;33m\u001b[0m\u001b[1;33m\u001b[0m\u001b[0m\n\u001b[0m",
      "\u001b[1;31mTypeError\u001b[0m: string indices must be integers"
     ],
     "output_type": "error"
    }
   ],
   "source": [
    "[x['cycle_length'] for x in list(data['O_rule_set_params'])]"
   ]
  },
  {
   "cell_type": "code",
   "execution_count": 4,
   "metadata": {
    "collapsed": true
   },
   "outputs": [],
   "source": [
    "df1 = data.iloc[:20, :]\n",
    "df2 = data.iloc[20:40, :]\n",
    "df3 = data.iloc[40:60, :]"
   ]
  },
  {
   "cell_type": "code",
   "execution_count": 6,
   "metadata": {},
   "outputs": [
    {
     "data": {
      "text/plain": [
       "5.454"
      ]
     },
     "execution_count": 6,
     "metadata": {},
     "output_type": "execute_result"
    }
   ],
   "source": [
    "df1[df1['M_model_type'] == \"deepmind\"]['eval_avg_steps_taken'].mean()"
   ]
  },
  {
   "cell_type": "code",
   "execution_count": 7,
   "metadata": {},
   "outputs": [
    {
     "data": {
      "text/plain": [
       "5.871999999999999"
      ]
     },
     "execution_count": 7,
     "metadata": {},
     "output_type": "execute_result"
    }
   ],
   "source": [
    "df1[df1['M_model_type'] == \"nervenet\"]['eval_avg_steps_taken'].mean()"
   ]
  },
  {
   "cell_type": "code",
   "execution_count": 8,
   "metadata": {},
   "outputs": [
    {
     "data": {
      "text/plain": [
       "5.286"
      ]
     },
     "execution_count": 8,
     "metadata": {},
     "output_type": "execute_result"
    }
   ],
   "source": [
    "df1[df1['M_model_type'] == \"fully_connected\"]['eval_avg_steps_taken'].mean()"
   ]
  },
  {
   "cell_type": "code",
   "execution_count": 9,
   "metadata": {},
   "outputs": [
    {
     "data": {
      "text/plain": [
       "4.99"
      ]
     },
     "execution_count": 9,
     "metadata": {},
     "output_type": "execute_result"
    }
   ],
   "source": [
    "df1[df1['M_model_type'] == \"no_structure\"]['eval_avg_steps_taken'].mean()"
   ]
  },
  {
   "cell_type": "code",
   "execution_count": null,
   "metadata": {
    "collapsed": true
   },
   "outputs": [],
   "source": []
  },
  {
   "cell_type": "code",
   "execution_count": 10,
   "metadata": {},
   "outputs": [
    {
     "data": {
      "text/plain": [
       "6.909999999999999"
      ]
     },
     "execution_count": 10,
     "metadata": {},
     "output_type": "execute_result"
    }
   ],
   "source": [
    "df2[df2['M_model_type'] == \"deepmind\"]['eval_avg_steps_taken'].mean()"
   ]
  },
  {
   "cell_type": "code",
   "execution_count": 11,
   "metadata": {},
   "outputs": [
    {
     "data": {
      "text/plain": [
       "6.774000000000001"
      ]
     },
     "execution_count": 11,
     "metadata": {},
     "output_type": "execute_result"
    }
   ],
   "source": [
    "df2[df2['M_model_type'] == \"nervenet\"]['eval_avg_steps_taken'].mean()"
   ]
  },
  {
   "cell_type": "code",
   "execution_count": 12,
   "metadata": {},
   "outputs": [
    {
     "data": {
      "text/plain": [
       "6.764000000000001"
      ]
     },
     "execution_count": 12,
     "metadata": {},
     "output_type": "execute_result"
    }
   ],
   "source": [
    "df2[df2['M_model_type'] == \"fully_connected\"]['eval_avg_steps_taken'].mean()"
   ]
  },
  {
   "cell_type": "code",
   "execution_count": 13,
   "metadata": {},
   "outputs": [
    {
     "data": {
      "text/plain": [
       "7.0120000000000005"
      ]
     },
     "execution_count": 13,
     "metadata": {},
     "output_type": "execute_result"
    }
   ],
   "source": [
    "df2[df2['M_model_type'] == \"no_structure\"]['eval_avg_steps_taken'].mean()"
   ]
  },
  {
   "cell_type": "code",
   "execution_count": null,
   "metadata": {
    "collapsed": true
   },
   "outputs": [],
   "source": []
  },
  {
   "cell_type": "code",
   "execution_count": 14,
   "metadata": {},
   "outputs": [
    {
     "data": {
      "text/plain": [
       "5.5200000000000005"
      ]
     },
     "execution_count": 14,
     "metadata": {},
     "output_type": "execute_result"
    }
   ],
   "source": [
    "df3[df3['M_model_type'] == \"deepmind\"]['eval_avg_steps_taken'].mean()"
   ]
  },
  {
   "cell_type": "code",
   "execution_count": 15,
   "metadata": {},
   "outputs": [
    {
     "data": {
      "text/plain": [
       "5.262"
      ]
     },
     "execution_count": 15,
     "metadata": {},
     "output_type": "execute_result"
    }
   ],
   "source": [
    "df3[df3['M_model_type'] == \"nervenet\"]['eval_avg_steps_taken'].mean()"
   ]
  },
  {
   "cell_type": "code",
   "execution_count": 16,
   "metadata": {},
   "outputs": [
    {
     "data": {
      "text/plain": [
       "5.256"
      ]
     },
     "execution_count": 16,
     "metadata": {},
     "output_type": "execute_result"
    }
   ],
   "source": [
    "df3[df3['M_model_type'] == \"fully_connected\"]['eval_avg_steps_taken'].mean()"
   ]
  },
  {
   "cell_type": "code",
   "execution_count": 17,
   "metadata": {},
   "outputs": [
    {
     "data": {
      "text/plain": [
       "4.396"
      ]
     },
     "execution_count": 17,
     "metadata": {},
     "output_type": "execute_result"
    }
   ],
   "source": [
    "df3[df3['M_model_type'] == \"no_structure\"]['eval_avg_steps_taken'].mean()"
   ]
  },
  {
   "cell_type": "code",
   "execution_count": null,
   "metadata": {
    "collapsed": true
   },
   "outputs": [],
   "source": []
  }
 ],
 "metadata": {
  "kernelspec": {
   "display_name": "Python 3",
   "language": "python",
   "name": "python3"
  },
  "language_info": {
   "codemirror_mode": {
    "name": "ipython",
    "version": 3
   },
   "file_extension": ".py",
   "mimetype": "text/x-python",
   "name": "python",
   "nbconvert_exporter": "python",
   "pygments_lexer": "ipython3",
   "version": "3.6.8"
  }
 },
 "nbformat": 4,
 "nbformat_minor": 2
}

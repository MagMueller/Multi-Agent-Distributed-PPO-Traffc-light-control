{
 "cells": [
  {
   "cell_type": "code",
   "execution_count": 1,
   "metadata": {
    "collapsed": true
   },
   "outputs": [],
   "source": [
    "import pandas as pd"
   ]
  },
  {
   "cell_type": "code",
   "execution_count": 2,
   "metadata": {
    "collapsed": true
   },
   "outputs": [],
   "source": [
    "data = pd.read_excel('run-data.xlsx')"
   ]
  },
  {
   "cell_type": "code",
   "execution_count": 3,
   "metadata": {},
   "outputs": [
    {
     "data": {
      "text/plain": [
       "(14, 31)"
      ]
     },
     "execution_count": 3,
     "metadata": {},
     "output_type": "execute_result"
    }
   ],
   "source": [
    "data.shape"
   ]
  },
  {
   "cell_type": "code",
   "execution_count": 4,
   "metadata": {
    "collapsed": true
   },
   "outputs": [],
   "source": [
    "# data.drop(len(data)-1, inplace=True)"
   ]
  },
  {
   "cell_type": "code",
   "execution_count": 5,
   "metadata": {
    "collapsed": true
   },
   "outputs": [],
   "source": [
    "# data.to_excel('../run-data.xlsx', index=False)"
   ]
  },
  {
   "cell_type": "code",
   "execution_count": 6,
   "metadata": {},
   "outputs": [
    {
     "data": {
      "text/html": [
       "<div>\n",
       "<style scoped>\n",
       "    .dataframe tbody tr th:only-of-type {\n",
       "        vertical-align: middle;\n",
       "    }\n",
       "\n",
       "    .dataframe tbody tr th {\n",
       "        vertical-align: top;\n",
       "    }\n",
       "\n",
       "    .dataframe thead th {\n",
       "        text-align: right;\n",
       "    }\n",
       "</style>\n",
       "<table border=\"1\" class=\"dataframe\">\n",
       "  <thead>\n",
       "    <tr style=\"text-align: right;\">\n",
       "      <th></th>\n",
       "      <th>rollout</th>\n",
       "      <th>waitingTime</th>\n",
       "      <th>time</th>\n",
       "      <th>rew</th>\n",
       "      <th>Ep_num_train_rollouts</th>\n",
       "      <th>Ep_rollout_length</th>\n",
       "      <th>Ep_eval_freq</th>\n",
       "      <th>Ep_eval_num_eps</th>\n",
       "      <th>Ep_max_ep_steps</th>\n",
       "      <th>Ep_generation_ep_steps</th>\n",
       "      <th>...</th>\n",
       "      <th>P_gradient_clip</th>\n",
       "      <th>P_value_loss_coef</th>\n",
       "      <th>R_rule_set</th>\n",
       "      <th>R_rule_set_params</th>\n",
       "      <th>En_shape</th>\n",
       "      <th>En_rush_hour</th>\n",
       "      <th>En_uniform_generation_probability</th>\n",
       "      <th>M_reward_interpolation</th>\n",
       "      <th>M_state_interpolation</th>\n",
       "      <th>P_num_workers</th>\n",
       "    </tr>\n",
       "  </thead>\n",
       "  <tbody>\n",
       "    <tr>\n",
       "      <th>0</th>\n",
       "      <td>150</td>\n",
       "      <td>545.087500</td>\n",
       "      <td>56.127909</td>\n",
       "      <td>1131.958000</td>\n",
       "      <td>400</td>\n",
       "      <td>2048</td>\n",
       "      <td>50</td>\n",
       "      <td>25</td>\n",
       "      <td>1250</td>\n",
       "      <td>1000</td>\n",
       "      <td>...</td>\n",
       "      <td>1</td>\n",
       "      <td>1</td>\n",
       "      <td>cycle</td>\n",
       "      <td>{'cycle_length': 20, 'NS_mult': 1.0, 'EW_mult'...</td>\n",
       "      <td>[3, 3]</td>\n",
       "      <td>False</td>\n",
       "      <td>0.05</td>\n",
       "      <td>0.0</td>\n",
       "      <td>0</td>\n",
       "      <td>8</td>\n",
       "    </tr>\n",
       "    <tr>\n",
       "      <th>1</th>\n",
       "      <td>407</td>\n",
       "      <td>497.771667</td>\n",
       "      <td>55.738751</td>\n",
       "      <td>1143.073556</td>\n",
       "      <td>400</td>\n",
       "      <td>2048</td>\n",
       "      <td>50</td>\n",
       "      <td>25</td>\n",
       "      <td>1250</td>\n",
       "      <td>1000</td>\n",
       "      <td>...</td>\n",
       "      <td>1</td>\n",
       "      <td>1</td>\n",
       "      <td>cycle</td>\n",
       "      <td>{'cycle_length': 20, 'NS_mult': 1.0, 'EW_mult'...</td>\n",
       "      <td>[3, 3]</td>\n",
       "      <td>False</td>\n",
       "      <td>0.05</td>\n",
       "      <td>0.0</td>\n",
       "      <td>0</td>\n",
       "      <td>8</td>\n",
       "    </tr>\n",
       "    <tr>\n",
       "      <th>2</th>\n",
       "      <td>408</td>\n",
       "      <td>527.901667</td>\n",
       "      <td>57.210245</td>\n",
       "      <td>1135.121111</td>\n",
       "      <td>400</td>\n",
       "      <td>2048</td>\n",
       "      <td>50</td>\n",
       "      <td>25</td>\n",
       "      <td>1250</td>\n",
       "      <td>1000</td>\n",
       "      <td>...</td>\n",
       "      <td>1</td>\n",
       "      <td>1</td>\n",
       "      <td>cycle</td>\n",
       "      <td>{'cycle_length': 20, 'NS_mult': 1.0, 'EW_mult'...</td>\n",
       "      <td>[3, 3]</td>\n",
       "      <td>False</td>\n",
       "      <td>0.05</td>\n",
       "      <td>0.0</td>\n",
       "      <td>0</td>\n",
       "      <td>8</td>\n",
       "    </tr>\n",
       "    <tr>\n",
       "      <th>3</th>\n",
       "      <td>408</td>\n",
       "      <td>503.400833</td>\n",
       "      <td>56.050249</td>\n",
       "      <td>1140.997444</td>\n",
       "      <td>400</td>\n",
       "      <td>2048</td>\n",
       "      <td>50</td>\n",
       "      <td>25</td>\n",
       "      <td>1250</td>\n",
       "      <td>1000</td>\n",
       "      <td>...</td>\n",
       "      <td>1</td>\n",
       "      <td>1</td>\n",
       "      <td>cycle</td>\n",
       "      <td>{'cycle_length': 20, 'NS_mult': 1.0, 'EW_mult'...</td>\n",
       "      <td>[3, 3]</td>\n",
       "      <td>False</td>\n",
       "      <td>0.05</td>\n",
       "      <td>0.2</td>\n",
       "      <td>0</td>\n",
       "      <td>8</td>\n",
       "    </tr>\n",
       "    <tr>\n",
       "      <th>4</th>\n",
       "      <td>350</td>\n",
       "      <td>514.990833</td>\n",
       "      <td>56.638730</td>\n",
       "      <td>1137.633556</td>\n",
       "      <td>400</td>\n",
       "      <td>2048</td>\n",
       "      <td>50</td>\n",
       "      <td>25</td>\n",
       "      <td>1250</td>\n",
       "      <td>1000</td>\n",
       "      <td>...</td>\n",
       "      <td>1</td>\n",
       "      <td>1</td>\n",
       "      <td>cycle</td>\n",
       "      <td>{'cycle_length': 20, 'NS_mult': 1.0, 'EW_mult'...</td>\n",
       "      <td>[3, 3]</td>\n",
       "      <td>False</td>\n",
       "      <td>0.05</td>\n",
       "      <td>0.2</td>\n",
       "      <td>0</td>\n",
       "      <td>8</td>\n",
       "    </tr>\n",
       "  </tbody>\n",
       "</table>\n",
       "<p>5 rows × 31 columns</p>\n",
       "</div>"
      ],
      "text/plain": [
       "   rollout  waitingTime       time          rew  Ep_num_train_rollouts  \\\n",
       "0      150   545.087500  56.127909  1131.958000                    400   \n",
       "1      407   497.771667  55.738751  1143.073556                    400   \n",
       "2      408   527.901667  57.210245  1135.121111                    400   \n",
       "3      408   503.400833  56.050249  1140.997444                    400   \n",
       "4      350   514.990833  56.638730  1137.633556                    400   \n",
       "\n",
       "   Ep_rollout_length  Ep_eval_freq  Ep_eval_num_eps  Ep_max_ep_steps  \\\n",
       "0               2048            50               25             1250   \n",
       "1               2048            50               25             1250   \n",
       "2               2048            50               25             1250   \n",
       "3               2048            50               25             1250   \n",
       "4               2048            50               25             1250   \n",
       "\n",
       "   Ep_generation_ep_steps  ...  P_gradient_clip P_value_loss_coef  R_rule_set  \\\n",
       "0                    1000  ...                1                 1       cycle   \n",
       "1                    1000  ...                1                 1       cycle   \n",
       "2                    1000  ...                1                 1       cycle   \n",
       "3                    1000  ...                1                 1       cycle   \n",
       "4                    1000  ...                1                 1       cycle   \n",
       "\n",
       "                                   R_rule_set_params  En_shape  En_rush_hour  \\\n",
       "0  {'cycle_length': 20, 'NS_mult': 1.0, 'EW_mult'...    [3, 3]         False   \n",
       "1  {'cycle_length': 20, 'NS_mult': 1.0, 'EW_mult'...    [3, 3]         False   \n",
       "2  {'cycle_length': 20, 'NS_mult': 1.0, 'EW_mult'...    [3, 3]         False   \n",
       "3  {'cycle_length': 20, 'NS_mult': 1.0, 'EW_mult'...    [3, 3]         False   \n",
       "4  {'cycle_length': 20, 'NS_mult': 1.0, 'EW_mult'...    [3, 3]         False   \n",
       "\n",
       "   En_uniform_generation_probability  M_reward_interpolation  \\\n",
       "0                               0.05                     0.0   \n",
       "1                               0.05                     0.0   \n",
       "2                               0.05                     0.0   \n",
       "3                               0.05                     0.2   \n",
       "4                               0.05                     0.2   \n",
       "\n",
       "   M_state_interpolation  P_num_workers  \n",
       "0                      0              8  \n",
       "1                      0              8  \n",
       "2                      0              8  \n",
       "3                      0              8  \n",
       "4                      0              8  \n",
       "\n",
       "[5 rows x 31 columns]"
      ]
     },
     "execution_count": 6,
     "metadata": {},
     "output_type": "execute_result"
    }
   ],
   "source": [
    "data.head()"
   ]
  },
  {
   "cell_type": "code",
   "execution_count": 32,
   "metadata": {},
   "outputs": [
    {
     "data": {
      "text/html": [
       "<div>\n",
       "<style scoped>\n",
       "    .dataframe tbody tr th:only-of-type {\n",
       "        vertical-align: middle;\n",
       "    }\n",
       "\n",
       "    .dataframe tbody tr th {\n",
       "        vertical-align: top;\n",
       "    }\n",
       "\n",
       "    .dataframe thead th {\n",
       "        text-align: right;\n",
       "    }\n",
       "</style>\n",
       "<table border=\"1\" class=\"dataframe\">\n",
       "  <thead>\n",
       "    <tr style=\"text-align: right;\">\n",
       "      <th></th>\n",
       "      <th>rollout</th>\n",
       "      <th>waitingTime</th>\n",
       "      <th>time</th>\n",
       "      <th>rew</th>\n",
       "      <th>E_num_train_rollouts</th>\n",
       "      <th>E_rollout_length</th>\n",
       "      <th>E_eval_freq</th>\n",
       "      <th>E_eval_num_eps</th>\n",
       "      <th>E_max_ep_steps</th>\n",
       "      <th>E_test_num_eps</th>\n",
       "      <th>...</th>\n",
       "      <th>A_optimization_epochs</th>\n",
       "      <th>A_ppo_ratio_clip</th>\n",
       "      <th>A_discount</th>\n",
       "      <th>A_learning_rate</th>\n",
       "      <th>A_clip_grads</th>\n",
       "      <th>A_gradient_clip</th>\n",
       "      <th>A_value_loss_coef</th>\n",
       "      <th>O_num_agents</th>\n",
       "      <th>O_rule_set</th>\n",
       "      <th>O_rule_set_params</th>\n",
       "    </tr>\n",
       "  </thead>\n",
       "  <tbody>\n",
       "    <tr>\n",
       "      <th>30</th>\n",
       "      <td>258</td>\n",
       "      <td>994.88</td>\n",
       "      <td>4.290420</td>\n",
       "      <td>645.457778</td>\n",
       "      <td>250</td>\n",
       "      <td>1024</td>\n",
       "      <td>98</td>\n",
       "      <td>25</td>\n",
       "      <td>1000</td>\n",
       "      <td>250</td>\n",
       "      <td>...</td>\n",
       "      <td>5</td>\n",
       "      <td>0.3</td>\n",
       "      <td>0.99</td>\n",
       "      <td>0.00001</td>\n",
       "      <td>True</td>\n",
       "      <td>1</td>\n",
       "      <td>1.0</td>\n",
       "      <td>8</td>\n",
       "      <td>NaN</td>\n",
       "      <td>{'length': 5}</td>\n",
       "    </tr>\n",
       "    <tr>\n",
       "      <th>118</th>\n",
       "      <td>251</td>\n",
       "      <td>998.33</td>\n",
       "      <td>5.760454</td>\n",
       "      <td>641.853333</td>\n",
       "      <td>250</td>\n",
       "      <td>1024</td>\n",
       "      <td>98</td>\n",
       "      <td>25</td>\n",
       "      <td>1000</td>\n",
       "      <td>250</td>\n",
       "      <td>...</td>\n",
       "      <td>15</td>\n",
       "      <td>0.3</td>\n",
       "      <td>0.99</td>\n",
       "      <td>0.00001</td>\n",
       "      <td>False</td>\n",
       "      <td>1</td>\n",
       "      <td>1.0</td>\n",
       "      <td>8</td>\n",
       "      <td>NaN</td>\n",
       "      <td>{'length': 5}</td>\n",
       "    </tr>\n",
       "  </tbody>\n",
       "</table>\n",
       "<p>2 rows × 25 columns</p>\n",
       "</div>"
      ],
      "text/plain": [
       "     rollout  waitingTime      time         rew  E_num_train_rollouts  \\\n",
       "30       258       994.88  4.290420  645.457778                   250   \n",
       "118      251       998.33  5.760454  641.853333                   250   \n",
       "\n",
       "     E_rollout_length  E_eval_freq  E_eval_num_eps  E_max_ep_steps  \\\n",
       "30               1024           98              25            1000   \n",
       "118              1024           98              25            1000   \n",
       "\n",
       "     E_test_num_eps  ...  A_optimization_epochs  A_ppo_ratio_clip  A_discount  \\\n",
       "30              250  ...                      5               0.3        0.99   \n",
       "118             250  ...                     15               0.3        0.99   \n",
       "\n",
       "     A_learning_rate  A_clip_grads  A_gradient_clip  A_value_loss_coef  \\\n",
       "30           0.00001          True                1                1.0   \n",
       "118          0.00001         False                1                1.0   \n",
       "\n",
       "     O_num_agents  O_rule_set  O_rule_set_params  \n",
       "30              8         NaN      {'length': 5}  \n",
       "118             8         NaN      {'length': 5}  \n",
       "\n",
       "[2 rows x 25 columns]"
      ]
     },
     "execution_count": 32,
     "metadata": {},
     "output_type": "execute_result"
    }
   ],
   "source": [
    "data[data['waitingTime'] < 1000]`"
   ]
  },
  {
   "cell_type": "markdown",
   "metadata": {},
   "source": [
    "# Notes\n",
    "- rollout_length: at least 1024 (2048 is better)\n",
    "- gae_tau: at most 0.9 (maybe lower)\n",
    "- entropy_weight: at least 0.1 (test higher)\n",
    "- minibatch_size: at least 128 (maybe higher)\n",
    "- optimization_epochs: 5 but 10 is very close\n",
    "- ppo_ratio_clip: 0.3 but 0.2 is close\n",
    "- clip_grads: true\n",
    "- value_loss_coef: 1.0\n",
    "- reward_interpolation: 0 \n",
    "\n",
    "\n",
    "- NS_mult: 1.0 or 1.5\n",
    "- phase_end_offset: any (0 - 100)\n",
    "- multi intersection cycle length: 20\n",
    "- (best combo 1.5, 100, 20)"
   ]
  },
  {
   "cell_type": "code",
   "execution_count": 8,
   "metadata": {},
   "outputs": [
    {
     "data": {
      "text/plain": [
       "523.5869444444444"
      ]
     },
     "execution_count": 8,
     "metadata": {},
     "output_type": "execute_result"
    }
   ],
   "source": [
    "data[data['M_reward_interpolation'] == 0]['waitingTime'].mean()"
   ]
  },
  {
   "cell_type": "code",
   "execution_count": 9,
   "metadata": {
    "scrolled": false
   },
   "outputs": [
    {
     "data": {
      "text/plain": [
       "510.1986111111111"
      ]
     },
     "execution_count": 9,
     "metadata": {},
     "output_type": "execute_result"
    }
   ],
   "source": [
    "data[data['M_reward_interpolation'] == 0.2]['waitingTime'].mean()"
   ]
  },
  {
   "cell_type": "code",
   "execution_count": 10,
   "metadata": {},
   "outputs": [
    {
     "data": {
      "text/plain": [
       "567.0277777777777"
      ]
     },
     "execution_count": 10,
     "metadata": {},
     "output_type": "execute_result"
    }
   ],
   "source": [
    "data[data['M_reward_interpolation'] == 0.5]['waitingTime'].mean()"
   ]
  },
  {
   "cell_type": "code",
   "execution_count": 11,
   "metadata": {},
   "outputs": [
    {
     "data": {
      "text/plain": [
       "615.3183333333333"
      ]
     },
     "execution_count": 11,
     "metadata": {},
     "output_type": "execute_result"
    }
   ],
   "source": [
    "data[data['M_reward_interpolation'] == 0.8]['waitingTime'].mean()"
   ]
  },
  {
   "cell_type": "code",
   "execution_count": 12,
   "metadata": {},
   "outputs": [
    {
     "data": {
      "text/plain": [
       "600.2083333333333"
      ]
     },
     "execution_count": 12,
     "metadata": {},
     "output_type": "execute_result"
    }
   ],
   "source": [
    "data[data['M_reward_interpolation'] == 1]['waitingTime'].mean()"
   ]
  },
  {
   "cell_type": "code",
   "execution_count": null,
   "metadata": {
    "collapsed": true
   },
   "outputs": [],
   "source": []
  }
 ],
 "metadata": {
  "kernelspec": {
   "display_name": "Python 3",
   "language": "python",
   "name": "python3"
  },
  "language_info": {
   "codemirror_mode": {
    "name": "ipython",
    "version": 3
   },
   "file_extension": ".py",
   "mimetype": "text/x-python",
   "name": "python",
   "nbconvert_exporter": "python",
   "pygments_lexer": "ipython3",
   "version": "3.6.8"
  }
 },
 "nbformat": 4,
 "nbformat_minor": 2
}
